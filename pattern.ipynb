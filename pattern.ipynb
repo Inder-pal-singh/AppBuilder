{
  "nbformat": 4,
  "nbformat_minor": 0,
  "metadata": {
    "colab": {
      "name": "pattern.ipynb",
      "provenance": [],
      "authorship_tag": "ABX9TyNI7+T2l3Ig9B7EWHgzeNX/",
      "include_colab_link": true
    },
    "kernelspec": {
      "name": "python3",
      "display_name": "Python 3"
    }
  },
  "cells": [
    {
      "cell_type": "markdown",
      "metadata": {
        "id": "view-in-github",
        "colab_type": "text"
      },
      "source": [
        "<a href=\"https://colab.research.google.com/github/Inder-pal-singh/AppBuilder/blob/master/pattern.ipynb\" target=\"_parent\"><img src=\"https://colab.research.google.com/assets/colab-badge.svg\" alt=\"Open In Colab\"/></a>"
      ]
    },
    {
      "cell_type": "markdown",
      "metadata": {
        "id": "_-GivVzmjIn4"
      },
      "source": [
        "Print Pattern"
      ]
    },
    {
      "cell_type": "code",
      "metadata": {
        "colab": {
          "base_uri": "https://localhost:8080/"
        },
        "id": "wsvGqMWPjBQG",
        "outputId": "f72eb823-fec3-4469-de43-868998b6b78f"
      },
      "source": [
        "def print_pattern():\n",
        "    for j in range(0,2):\n",
        "        print(\"+----+----+\")\n",
        "        for i in range(0,3):\n",
        "             print(\"|    |    |\\n\")\n",
        "\n",
        "print_pattern()"
      ],
      "execution_count": 1,
      "outputs": [
        {
          "output_type": "stream",
          "text": [
            "+----+----+\n",
            "|    |    |\n",
            "\n",
            "|    |    |\n",
            "\n",
            "|    |    |\n",
            "\n",
            "+----+----+\n",
            "|    |    |\n",
            "\n",
            "|    |    |\n",
            "\n",
            "|    |    |\n",
            "\n"
          ],
          "name": "stdout"
        }
      ]
    },
    {
      "cell_type": "markdown",
      "metadata": {
        "id": "drGVc_hJjHHb"
      },
      "source": [
        ""
      ]
    },
    {
      "cell_type": "markdown",
      "metadata": {
        "id": "144VNHimjFk7"
      },
      "source": [
        ""
      ]
    }
  ]
}