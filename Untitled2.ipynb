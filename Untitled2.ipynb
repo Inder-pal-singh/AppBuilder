{
  "nbformat": 4,
  "nbformat_minor": 0,
  "metadata": {
    "colab": {
      "name": "Untitled2.ipynb",
      "provenance": [],
      "collapsed_sections": [],
      "authorship_tag": "ABX9TyO+4c9d6eLYfAJNEfPk9XS3",
      "include_colab_link": true
    },
    "kernelspec": {
      "name": "python3",
      "display_name": "Python 3"
    }
  },
  "cells": [
    {
      "cell_type": "markdown",
      "metadata": {
        "id": "view-in-github",
        "colab_type": "text"
      },
      "source": [
        "<a href=\"https://colab.research.google.com/github/Inder-pal-singh/AppBuilder/blob/master/Untitled2.ipynb\" target=\"_parent\"><img src=\"https://colab.research.google.com/assets/colab-badge.svg\" alt=\"Open In Colab\"/></a>"
      ]
    },
    {
      "cell_type": "code",
      "metadata": {
        "colab": {
          "base_uri": "https://localhost:8080/"
        },
        "id": "YnyjFn-Ubyim",
        "outputId": "cd730a52-6366-4a2b-cc27-7252bf97b32a"
      },
      "source": [
        "print(\"\\tOnline Retail Management\")\n",
        "amount = int(input(\"Enter the Bill Amount: \"))\n",
        "\n",
        "\n",
        "def cal_dis_amt(bill_amount):\n",
        "    if bill_amount >= 1000:\n",
        "        discount = bill_amount * 0.05\n",
        "        return bill_amount - discount\n",
        "    elif 500 <= bill_amount < 1000:\n",
        "        discount = bill_amount * 0.02\n",
        "        return bill_amount - discount\n",
        "    elif 0 <= bill_amount < 500:\n",
        "        discount = bill_amount * 0.01\n",
        "        return bill_amount - discount\n",
        "\n",
        "\n",
        "final_bill_amount = cal_dis_amt(amount)\n",
        "print(\"Final Amount:\", final_bill_amount)"
      ],
      "execution_count": 1,
      "outputs": [
        {
          "output_type": "stream",
          "text": [
            "\tOnline Retail Management\n",
            "Enter the Bill Amount: 1000\n",
            "Final Amount: 950.0\n"
          ],
          "name": "stdout"
        }
      ]
    }
  ]
}