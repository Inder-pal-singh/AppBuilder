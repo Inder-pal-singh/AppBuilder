{
  "nbformat": 4,
  "nbformat_minor": 0,
  "metadata": {
    "colab": {
      "name": "Untitled0.ipynb",
      "provenance": [],
      "authorship_tag": "ABX9TyMWoBjTOunVk8dQSGU4O6DG",
      "include_colab_link": true
    },
    "kernelspec": {
      "name": "python3",
      "display_name": "Python 3"
    }
  },
  "cells": [
    {
      "cell_type": "markdown",
      "metadata": {
        "id": "view-in-github",
        "colab_type": "text"
      },
      "source": [
        "<a href=\"https://colab.research.google.com/github/Inder-pal-singh/AppBuilder/blob/master/Untitled0.ipynb\" target=\"_parent\"><img src=\"https://colab.research.google.com/assets/colab-badge.svg\" alt=\"Open In Colab\"/></a>"
      ]
    },
    {
      "cell_type": "code",
      "metadata": {
        "colab": {
          "base_uri": "https://localhost:8080/"
        },
        "id": "L-qdaChRbpMp",
        "outputId": "78cc089f-1df1-4f6b-e2b4-12d65e4b7980"
      },
      "source": [
        "# Creating Empty List\n",
        "userList = [] \n",
        "\n",
        "# Getting length of List to be Inputted\n",
        "n = int(input(\"Enter Number of elements\")) \n",
        "\n",
        "# Function for deleteing the element at Given Value\n",
        "def deleteElement():\n",
        "  i = 0\n",
        "  while i < len(userList):\n",
        "    if i == a:\n",
        "      userList.remove(userList[i])\n",
        "    i=i+1\n",
        "\n",
        "\n",
        "# Getting values from the user and storing it in UserList\n",
        "for i in range(0,n):\n",
        "    b=int(input(\"input \"))\n",
        "    userList.append(b)\n",
        "# Using try and catch Block for input validation\n",
        "try:\n",
        "\n",
        "  a = int(input(\"Enter The Position of Element you want to Delete\"))\n",
        "except ValueError:\n",
        "\n",
        "  print(\"Incorrect Input Entered\")\n",
        "\n",
        "# Validating Position inputted by User\n",
        "if a > len(userList):\n",
        "\n",
        "    print(\"Incorrect Index Value\")\n",
        "\n",
        "else:\n",
        "  \n",
        "    deleteElement()\n",
        "# Printing List after deleting element\n",
        "print(userList)"
      ],
      "execution_count": 45,
      "outputs": [
        {
          "output_type": "stream",
          "text": [
            "Enter Number of elements4\n",
            "input 2\n",
            "input 33\n",
            "input 6\n",
            "input 5\n",
            "Enter The Position of Element you want to Delete1\n",
            "[2, 6, 5]\n"
          ],
          "name": "stdout"
        }
      ]
    },
    {
      "cell_type": "code",
      "metadata": {
        "id": "ny4rLZ-rb66-"
      },
      "source": [
        "()"
      ],
      "execution_count": null,
      "outputs": []
    }
  ]
}